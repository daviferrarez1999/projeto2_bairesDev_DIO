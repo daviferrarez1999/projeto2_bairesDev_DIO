{
  "nbformat": 4,
  "nbformat_minor": 0,
  "metadata": {
    "colab": {
      "provenance": [],
      "authorship_tag": "ABX9TyMpbSzCRnVofsQc9xAUw8b3",
      "include_colab_link": true
    },
    "kernelspec": {
      "name": "python3",
      "display_name": "Python 3"
    },
    "language_info": {
      "name": "python"
    }
  },
  "cells": [
    {
      "cell_type": "markdown",
      "metadata": {
        "id": "view-in-github",
        "colab_type": "text"
      },
      "source": [
        "<a href=\"https://colab.research.google.com/github/daviferrarez1999/projeto2_bairesDev_DIO/blob/main/projeto2_BairesDev.ipynb\" target=\"_parent\"><img src=\"https://colab.research.google.com/assets/colab-badge.svg\" alt=\"Open In Colab\"/></a>"
      ]
    },
    {
      "cell_type": "code",
      "execution_count": 4,
      "metadata": {
        "colab": {
          "base_uri": "https://localhost:8080/"
        },
        "id": "ZMbwnteT39vL",
        "outputId": "3cbc7db0-21ed-46ad-962f-3888cfbdf609"
      },
      "outputs": [
        {
          "output_type": "stream",
          "name": "stdout",
          "text": [
            "Conversao para tons de cinza realizada com sucesso!\n"
          ]
        }
      ],
      "source": [
        "def converter_rgb_para_cinza(r, g, b):\n",
        "  return int(0.3*r + 0.59*g + 0.11*b)\n",
        "\n",
        "def converter_bmp_para_escalas_de_cinza(entrada, saida):\n",
        "  with open(entrada, 'rb') as img:\n",
        "    cabecalho = img.read(54)\n",
        "    dados = bytearray(img.read())\n",
        "\n",
        "  for i in range(0, len(dados), 3):\n",
        "    blue = dados[i]\n",
        "    green = dados[i+1]\n",
        "    red = dados[i+2]\n",
        "\n",
        "    gray = converter_rgb_para_cinza(red, green, blue)\n",
        "\n",
        "    dados[i] = dados[i+1] = dados[i+2] = gray\n",
        "\n",
        "  with open(saida, 'wb') as img_saida:\n",
        "    img_saida.write(cabecalho)\n",
        "    img_saida.write(dados)\n",
        "\n",
        "entrada = 'leopardo.bmp'\n",
        "saida = 'leopardo_grayscale.bmp'\n",
        "\n",
        "converter_bmp_para_escalas_de_cinza(entrada, saida)\n",
        "\n",
        "print('Conversao para tons de cinza realizada com sucesso!')"
      ]
    },
    {
      "cell_type": "code",
      "source": [
        "def imagem_binarizada(entrada, saida, threshold=128):\n",
        "  with open(entrada, 'rb') as img:\n",
        "    cabecalho = img.read(54)\n",
        "    dados = bytearray(img.read())\n",
        "\n",
        "  for i in range(len(dados)):\n",
        "    dados[i] = 255 if dados[i] > threshold else 0\n",
        "\n",
        "  with open(saida, 'wb') as img_saida:\n",
        "    img_saida.write(cabecalho)\n",
        "    img_saida.write(dados)\n",
        "\n",
        "entrada = 'leopardo_grayscale.bmp'\n",
        "saida = 'leopardo_threshold.bmp'\n",
        "threshold = 128\n",
        "\n",
        "\n",
        "imagem_binarizada(entrada, saida, threshold)\n",
        "\n",
        "print('Conversao para imagem binarizada realizada com sucesso!')"
      ],
      "metadata": {
        "colab": {
          "base_uri": "https://localhost:8080/"
        },
        "id": "MBM_6Fru_ire",
        "outputId": "e1cf8b5a-a7c7-4efe-e053-f61972ef23db"
      },
      "execution_count": 10,
      "outputs": [
        {
          "output_type": "stream",
          "name": "stdout",
          "text": [
            "Conversao para imagem binarizada realizada com sucesso!\n"
          ]
        }
      ]
    },
    {
      "cell_type": "code",
      "source": [],
      "metadata": {
        "id": "yWwwtPRN7yZz"
      },
      "execution_count": null,
      "outputs": []
    }
  ]
}